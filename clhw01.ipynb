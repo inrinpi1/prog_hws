{
 "cells": [
  {
   "cell_type": "markdown",
   "metadata": {},
   "source": [
    "Задача 1.\n",
    "Дано трехзначное число. Найдите сумму его цифр."
   ]
  },
  {
   "cell_type": "code",
   "execution_count": 5,
   "metadata": {},
   "outputs": [
    {
     "name": "stdout",
     "output_type": "stream",
     "text": [
      "6\n"
     ]
    }
   ],
   "source": [
    "number = input(\"Введите трехзначное число: \")\n",
    "if len(number) == 3:\n",
    "    print(int(number[0]) + int(number[1]) + int(number[2]))\n",
    "else:\n",
    "    print(\"Пожалуйста, введите трехзначное число.\")"
   ]
  },
  {
   "cell_type": "markdown",
   "metadata": {},
   "source": [
    "Задача 2.\n",
    "Процентная ставка по вкладу составляет P процентов годовых, которые прибавляются к сумме вклада. Вклад составляет X рублей Y копеек. Определите размер вклада через год. Программа получает на вход целые числа P, X, Y и должна вывести два числа: величину вклада через год в рублях и копейках. Дробная часть копеек отбрасывается."
   ]
  },
  {
   "cell_type": "code",
   "execution_count": 9,
   "metadata": {},
   "outputs": [
    {
     "name": "stdout",
     "output_type": "stream",
     "text": [
      "Размер вклада через год: 1100 руб. 11 коп.\n"
     ]
    }
   ],
   "source": [
    "p = float(input(\"Введите процентную ставку по вкладу: \"))\n",
    "x = int(input(\"Введите количество рублей на вкладе: \"))\n",
    "y = int(input(\"Введите количество копеек на вкладе: \"))\n",
    "amount_in_kopecks = x * 100 + y\n",
    "amount_in_kopecks += p / 100 * amount_in_kopecks\n",
    "print(f\"Размер вклада через год: {int(amount_in_kopecks // 100)} руб. {int(amount_in_kopecks % 100)} коп.\")"
   ]
  },
  {
   "cell_type": "markdown",
   "metadata": {},
   "source": [
    "Задача 3.\n",
    "Маша с математического факультета МГУ сильно заскучала, идя по улице. Она решила придумать себе такое развлечение:\n",
    "\n",
    "Если она видит машину, она проводит арифметические операции с ее номером. Так, если ее номер делится на 3, она возводит результат во 2-ю степень. Если ее номер не делится на 3, она целочисленно делит его на 5.\n",
    "\n",
    "Если Маша видит группу человек, она умножает количество людей на 8 и возвращает остаток от деления на 6.\n",
    "\n",
    "С помощью input() пользователь вводит либо целое трехзначное число (номер машины), либо однозначное или двузначное целое число (количество людей)."
   ]
  },
  {
   "cell_type": "code",
   "execution_count": 45,
   "metadata": {},
   "outputs": [
    {
     "name": "stdout",
     "output_type": "stream",
     "text": [
      "64\n"
     ]
    }
   ],
   "source": [
    "input_data = input(\"Введите число: \")\n",
    "if len(input_data) == 3:\n",
    "    number = int(input_data)\n",
    "    if number % 3 == 0:\n",
    "        number = (number / 3) ** 2\n",
    "    else:\n",
    "        number = number // 5\n",
    "    print(number)\n",
    "elif len(input_data) <= 2:\n",
    "    number = int(input_data)\n",
    "    number = (number * 8) % 6\n",
    "    print(number)\n",
    "else:\n",
    "    print(\"Пожалуйста, введите целое трехзначное число (номер машины) или целое однозначное/двузначное число (количество людей).\")"
   ]
  },
  {
   "cell_type": "markdown",
   "metadata": {},
   "source": [
    "Задача 4.\n",
    "Числа Фибоначчи (простые). Вводится целое число: с помощью формулы выведите число Фибоначчи с этим номером."
   ]
  },
  {
   "cell_type": "code",
   "execution_count": 4,
   "metadata": {},
   "outputs": [
    {
     "name": "stdout",
     "output_type": "stream",
     "text": [
      "Число Фибоначчи с номером 18 равно 2584.\n"
     ]
    }
   ],
   "source": [
    "n = int(input(\"Введите целое число: \"))\n",
    "\n",
    "# Формула Бине\n",
    "phi = (1 + 5 ** 0.5) / 2\n",
    "fibonacci_number = int((phi ** n - (-phi) ** -n) / (5 ** 0.5))\n",
    "\n",
    "print(f\"Число Фибоначчи с номером {n} равно {fibonacci_number}.\")"
   ]
  },
  {
   "cell_type": "markdown",
   "metadata": {},
   "source": [
    "Задача 5.\n",
    "Напишите программу, которая на вход принимает число секунд и возвращает его в часах, минутах и секундах в формате HH:MM:SS."
   ]
  },
  {
   "cell_type": "code",
   "execution_count": 1,
   "metadata": {},
   "outputs": [
    {
     "name": "stdout",
     "output_type": "stream",
     "text": [
      "01:00:00\n"
     ]
    }
   ],
   "source": [
    "total_seconds = int(input(\"Введите число секунд: \"))\n",
    "hours = total_seconds // 3600\n",
    "minutes = (total_seconds %  3600) // 60\n",
    "seconds = (total_seconds %  3600) % 60\n",
    "print(f\"{hours:02d}:{minutes:02d}:{seconds:02d}\")"
   ]
  }
 ],
 "metadata": {
  "kernelspec": {
   "display_name": "Python 3",
   "language": "python",
   "name": "python3"
  },
  "language_info": {
   "codemirror_mode": {
    "name": "ipython",
    "version": 3
   },
   "file_extension": ".py",
   "mimetype": "text/x-python",
   "name": "python",
   "nbconvert_exporter": "python",
   "pygments_lexer": "ipython3",
   "version": "3.11.5"
  },
  "orig_nbformat": 4
 },
 "nbformat": 4,
 "nbformat_minor": 2
}

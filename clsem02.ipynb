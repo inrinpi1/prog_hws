{
 "cells": [
  {
   "cell_type": "markdown",
   "id": "99e816fb-e950-4375-a731-5ede4d2c7e1f",
   "metadata": {},
   "source": [
    "### Повторим немного пройденное"
   ]
  },
  {
   "cell_type": "markdown",
   "id": "5f70c975-a5eb-4dd0-94d0-0038cfa1a4d3",
   "metadata": {},
   "source": [
    "#### Задача 1. \n",
    "\n",
    "Напишите программу, которая считывает длины двух катетов в прямоугольном треугольнике и выводит его площадь."
   ]
  },
  {
   "cell_type": "code",
   "execution_count": 17,
   "id": "f4514e9e-22b7-48f6-8b9f-a9735e7b632b",
   "metadata": {},
   "outputs": [
    {
     "name": "stdout",
     "output_type": "stream",
     "text": [
      "30.0\n"
     ]
    }
   ],
   "source": [
    "a = float(input('Введите длину первого катета: '))\n",
    "b = float(input('Введите длину второго катета: '))\n",
    "print(0.5 * a * b)"
   ]
  },
  {
   "cell_type": "markdown",
   "id": "8712b5cd-d94d-4120-9f69-2406abaab58c",
   "metadata": {},
   "source": [
    "#### Задача 2. \n",
    "\n",
    "В школе решили набрать три новых математических класса. Так как занятия по математике у них проходят в одно и то же время, было решено выделить кабинет для каждого класса и купить в них новые парты. За каждой партой может сидеть не больше двух учеников. Известно количество учащихся в каждом из трёх классов. Сколько всего нужно закупить парт, чтобы их хватило на всех учеников? Программа получает на вход три натуральных числа: количество учащихся в каждом из трех классов."
   ]
  },
  {
   "cell_type": "code",
   "execution_count": 3,
   "id": "1215a8dc-af90-4a99-9a15-23fa0d2d8836",
   "metadata": {},
   "outputs": [
    {
     "name": "stdout",
     "output_type": "stream",
     "text": [
      "47\n"
     ]
    }
   ],
   "source": [
    "import math\n",
    "class1 = int(input('Введите количество учащихся в первом классе: '))\n",
    "class2 = int(input('Введите количество учащихся во втором классе: '))\n",
    "class3 = int(input('Введите количество учащихся в третьем классе: '))\n",
    "print(math.ceil(class1 / 2) + math.ceil(class2 / 2) + math.ceil(class3 / 2)) "
   ]
  },
  {
   "cell_type": "markdown",
   "id": "4dbb7cbd-9d50-4803-a5b7-674c0e47bfd1",
   "metadata": {},
   "source": [
    "### Строки"
   ]
  },
  {
   "cell_type": "markdown",
   "id": "cda9bada-37db-4d5d-a1d8-3588482cb504",
   "metadata": {},
   "source": [
    "#### Задача 3. \n",
    "\n",
    "Пользователь вводит строку. проверьте, является ли она числом, и увеличьте это число на единицу."
   ]
  },
  {
   "cell_type": "code",
   "execution_count": 7,
   "id": "e5b22488-d978-4262-991f-2beb3655c26f",
   "metadata": {},
   "outputs": [
    {
     "name": "stdout",
     "output_type": "stream",
     "text": [
      "15\n"
     ]
    }
   ],
   "source": [
    "input_str = input()\n",
    "if input_str.isdigit():\n",
    "    print(int(input_str) + 1)\n",
    "else:\n",
    "    print('Not a number')"
   ]
  },
  {
   "cell_type": "markdown",
   "id": "2739c3b8-3dff-4b85-8e86-df6b860ee48b",
   "metadata": {},
   "source": [
    "#### Задача 4.\n",
    "\n",
    "Пользователь вводит строку. Проверьте, похожа ли она на название песни (слова начинаются с заглавной буквы)."
   ]
  },
  {
   "cell_type": "code",
   "execution_count": 10,
   "id": "e8edaa09-3f14-4c94-9544-f88236e8d8b0",
   "metadata": {},
   "outputs": [
    {
     "name": "stdout",
     "output_type": "stream",
     "text": [
      "Введенная строка похожа на название песни.\n"
     ]
    }
   ],
   "source": [
    "input_str = input()\n",
    "if input_str.istitle():\n",
    "    print('Введенная строка похожа на название песни.')\n",
    "else:\n",
    "    print('Введенная строка не похожа на название песни.')"
   ]
  },
  {
   "cell_type": "markdown",
   "id": "1a51c58a-5498-4e19-a2b1-ee612234b08d",
   "metadata": {},
   "source": [
    "#### Задача 5.\n",
    "\n",
    "Пользователь вводит строку - название файла с расширением. Выведите только расширение (все, что после точки). Точка может встречаться в самом названии файла, а в расширении - нет."
   ]
  },
  {
   "cell_type": "code",
   "execution_count": 14,
   "id": "03fb952e-da9b-4798-94fa-e1e59e2aaa54",
   "metadata": {},
   "outputs": [
    {
     "name": "stdout",
     "output_type": "stream",
     "text": [
      "py\n"
     ]
    }
   ],
   "source": [
    "input_str = input()\n",
    "print(input_str[input_str.rfind('.') + 1:])"
   ]
  },
  {
   "cell_type": "markdown",
   "id": "d99c0849-b476-4956-a7e2-d48105add7e5",
   "metadata": {},
   "source": [
    "### Циклы"
   ]
  },
  {
   "cell_type": "markdown",
   "id": "ef8d684b-7c89-4045-b514-1383c6e6513d",
   "metadata": {},
   "source": [
    "#### Задача 6. \n",
    "\n",
    "По данному целому числу N распечатайте все квадраты натуральных чисел, не превосходящие N, в порядке возрастания."
   ]
  },
  {
   "cell_type": "code",
   "execution_count": 19,
   "id": "e78ee14f-0514-450a-bd01-c47e80ff0864",
   "metadata": {},
   "outputs": [
    {
     "name": "stdout",
     "output_type": "stream",
     "text": [
      "1\n",
      "4\n",
      "9\n"
     ]
    }
   ],
   "source": [
    "n = int(input())\n",
    "number = 1\n",
    "while number ** 2 <= n:\n",
    "    print(number ** 2)\n",
    "    number += 1"
   ]
  },
  {
   "cell_type": "markdown",
   "id": "51778807-f95c-4c25-97b3-12108e83d35a",
   "metadata": {},
   "source": [
    "#### Задача 7.\n",
    "\n",
    "Определите среднее значение всех элементов последовательности, завершающейся числом 0. Списками пользоваться нельзя. "
   ]
  },
  {
   "cell_type": "code",
   "execution_count": 39,
   "id": "143e4835-e2c8-490c-adca-6d757559c183",
   "metadata": {},
   "outputs": [
    {
     "name": "stdout",
     "output_type": "stream",
     "text": [
      "12.0\n"
     ]
    }
   ],
   "source": [
    "total = 0\n",
    "numbers_entered = 0\n",
    "while True:\n",
    "    number = int(input())\n",
    "    if number == 0:\n",
    "        break \n",
    "    total += number\n",
    "    numbers_entered += 1\n",
    "print(total / numbers_entered)"
   ]
  },
  {
   "cell_type": "markdown",
   "id": "df8fd63b-500b-4184-8b65-35cba32c9ffd",
   "metadata": {},
   "source": [
    "#### Задача 8. \n",
    "\n",
    "Факториалом числа n называется произведение 1 × 2 × ... × n. Обозначение: n!.\n",
    "По данному натуральному n вычислите значение n!. Пользоваться математической библиотекой math в этой задаче запрещено."
   ]
  },
  {
   "cell_type": "code",
   "execution_count": 34,
   "id": "4646a03a-8f57-4ec9-a830-0a4b66dc1203",
   "metadata": {},
   "outputs": [
    {
     "name": "stdout",
     "output_type": "stream",
     "text": [
      "120\n"
     ]
    }
   ],
   "source": [
    "n = int(input())\n",
    "factorial = 1\n",
    "if n < 0:\n",
    "    print('Введите натуральное число.')\n",
    "elif n == 0:\n",
    "    print(1)\n",
    "else:\n",
    "    for num in range(1, n + 1):\n",
    "        factorial *= num\n",
    "    print(factorial)"
   ]
  },
  {
   "cell_type": "markdown",
   "id": "308ad628-35c5-4fb6-8740-0d0fa18b9098",
   "metadata": {},
   "source": [
    "#### Задача 9.\n",
    "\n",
    "Выведите числа от 1 до 9 таким образом, чтобы образовалась лесенка:\n",
    "\n",
    "    1\n",
    "    1 2\n",
    "    1 2 3\n",
    "    1 2 3 4\n",
    "    ..."
   ]
  },
  {
   "cell_type": "code",
   "execution_count": 6,
   "id": "498090a6-aa04-47b5-865d-7bad1bd4d343",
   "metadata": {},
   "outputs": [
    {
     "name": "stdout",
     "output_type": "stream",
     "text": [
      "1 \n",
      "1 2 \n",
      "1 2 3 \n",
      "1 2 3 4 \n",
      "1 2 3 4 5 \n",
      "1 2 3 4 5 6 \n",
      "1 2 3 4 5 6 7 \n",
      "1 2 3 4 5 6 7 8 \n",
      "1 2 3 4 5 6 7 8 9 \n"
     ]
    }
   ],
   "source": [
    "string = ''\n",
    "for num in range(1, 10):\n",
    "    string += f'{num} '\n",
    "    print(string)"
   ]
  },
  {
   "cell_type": "markdown",
   "id": "0242f642-fb26-485b-849c-b44ffe339b21",
   "metadata": {},
   "source": [
    "#### Задача 10. \n",
    "\n",
    "Определите сумму всех элементов последовательности, завершающейся числом 0. (Вводится последовательность, пока не введется ноль, и нужно вывести сумму всех введенных чисел. Списками пользоваться нельзя)."
   ]
  },
  {
   "cell_type": "code",
   "execution_count": 15,
   "id": "822e8f7a-632e-4058-8753-78eecd7e082c",
   "metadata": {},
   "outputs": [
    {
     "name": "stdout",
     "output_type": "stream",
     "text": [
      "369\n"
     ]
    }
   ],
   "source": [
    "result = 0\n",
    "while True:\n",
    "    num = int(input())\n",
    "    if num == 0:\n",
    "        break\n",
    "    result += num\n",
    "print(result)"
   ]
  },
  {
   "cell_type": "markdown",
   "id": "6962700c-b918-4a75-b858-cc0df6193685",
   "metadata": {},
   "source": [
    "### Исключения"
   ]
  },
  {
   "cell_type": "markdown",
   "id": "e9cd65b1-e775-4521-9432-bb84762339c8",
   "metadata": {},
   "source": [
    "#### Задача 11. \n",
    "\n",
    "Решите первую задачу с помощью try и except."
   ]
  },
  {
   "cell_type": "code",
   "execution_count": 50,
   "id": "d8eb3e63-9bfb-4265-9a82-bf648b0f76d6",
   "metadata": {},
   "outputs": [
    {
     "name": "stdout",
     "output_type": "stream",
     "text": [
      "Введите число.\n",
      "Введите число.\n",
      "30.0\n"
     ]
    }
   ],
   "source": [
    "while True:\n",
    "    try:\n",
    "        a = float(input('Введите длину первого катета: '))\n",
    "        b = float(input('Введите длину второго катета: '))\n",
    "    except ValueError:\n",
    "        print('Введите число.')\n",
    "        continue\n",
    "    print(0.5 * a * b)\n",
    "    break"
   ]
  }
 ],
 "metadata": {
  "kernelspec": {
   "display_name": "Python 3 (ipykernel)",
   "language": "python",
   "name": "python3"
  },
  "language_info": {
   "codemirror_mode": {
    "name": "ipython",
    "version": 3
   },
   "file_extension": ".py",
   "mimetype": "text/x-python",
   "name": "python",
   "nbconvert_exporter": "python",
   "pygments_lexer": "ipython3",
   "version": "3.11.5"
  }
 },
 "nbformat": 4,
 "nbformat_minor": 5
}

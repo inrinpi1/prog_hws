{
 "cells": [
  {
   "cell_type": "markdown",
   "id": "9fd2890d-cfdc-4c4f-abbf-9475fd88a67b",
   "metadata": {},
   "source": [
    "#### Задача 1. \n",
    "\n",
    "Пользователь вводит с клавиатуры какие-то числа (необходимо считывать их в цикле), пока не введет ноль. Нужно посчитать стандартное отклонение по формуле из [википедии](https://ru.wikipedia.org/wiki/%D0%A1%D1%80%D0%B5%D0%B4%D0%BD%D0%B5%D0%BA%D0%B2%D0%B0%D0%B4%D1%80%D0%B0%D1%82%D0%B8%D1%87%D0%B5%D1%81%D0%BA%D0%BE%D0%B5_%D0%BE%D1%82%D0%BA%D0%BB%D0%BE%D0%BD%D0%B5%D0%BD%D0%B8%D0%B5). Списками пользоваться нельзя. \n",
    "\n",
    "Подсказка: нужно преобразовать формулу. "
   ]
  },
  {
   "cell_type": "code",
   "execution_count": 131,
   "id": "54a5311f-b608-413c-ad00-bf837a232192",
   "metadata": {},
   "outputs": [
    {
     "name": "stdout",
     "output_type": "stream",
     "text": [
      "2.0\n"
     ]
    }
   ],
   "source": [
    "count = 0\n",
    "total = 0\n",
    "sum_sq = 0\n",
    "while True:\n",
    "    number = float(input())\n",
    "    if number == 0:\n",
    "        break\n",
    "    count += 1\n",
    "    total += number\n",
    "    sum_sq += number ** 2\n",
    "    \n",
    "mean = total / count\n",
    "var = sum_sq / count - mean ** 2\n",
    "stdev = var ** 0.5\n",
    "print(stdev)"
   ]
  },
  {
   "cell_type": "markdown",
   "id": "9917cdc9-d739-4eca-8405-b9f640df483d",
   "metadata": {},
   "source": [
    "#### Задача 2. \n",
    "\n",
    "Пользователь вводит какие-то целые числа в бесконечном цикле, пока не введет ноль; программа должна выводить введенное число и согласовать с ним слово \"кролик\", например, \n",
    "    \n",
    "    1 кролик\n",
    "    2 кролика\n",
    "    11 кроликов\n",
    "    123 кролика\n",
    "    ...\n",
    " "
   ]
  },
  {
   "cell_type": "code",
   "execution_count": 17,
   "id": "dece8eac-10c9-4d12-9018-852058950448",
   "metadata": {},
   "outputs": [
    {
     "name": "stdout",
     "output_type": "stream",
     "text": [
      "1 кролик\n",
      "2 кролика\n",
      "5 кроликов\n",
      "11 кроликов\n",
      "21 кролик\n",
      "22 кролика\n",
      "123 кролика\n"
     ]
    }
   ],
   "source": [
    "while True:\n",
    "    n = input()\n",
    "    if n == \"0\":\n",
    "        break\n",
    "    if n.endswith(\"11\") or n.endswith(\"12\") or n.endswith(\"13\") or n.endswith(\"14\"):\n",
    "        print(f\"{n} кроликов\")\n",
    "    elif n.endswith(\"1\"):\n",
    "        print(f\"{n} кролик\")\n",
    "    elif n.endswith(\"2\") or n.endswith(\"3\") or n.endswith(\"4\"):\n",
    "        print(f\"{n} кролика\")\n",
    "    else:\n",
    "        print(f\"{n} кроликов\")"
   ]
  },
  {
   "cell_type": "markdown",
   "id": "d897375c-c557-4f2c-87b1-e88e2104ec72",
   "metadata": {},
   "source": [
    "#### Задача 3. \n",
    "\n",
    "Пользователь вводит целые (не обязательно положительные) числа. Программа должна вывести самое большое введенное число."
   ]
  },
  {
   "cell_type": "code",
   "execution_count": 125,
   "id": "01d8061d",
   "metadata": {},
   "outputs": [
    {
     "name": "stdout",
     "output_type": "stream",
     "text": [
      "-20\n"
     ]
    }
   ],
   "source": [
    "numbers = []\n",
    "while True:\n",
    "    input_number = int(input())\n",
    "    if input_number == 0:\n",
    "        break\n",
    "    numbers.append(input_number)\n",
    "print(max(numbers))"
   ]
  },
  {
   "cell_type": "code",
   "execution_count": 124,
   "id": "6e681407",
   "metadata": {},
   "outputs": [
    {
     "name": "stdout",
     "output_type": "stream",
     "text": [
      "-10\n"
     ]
    }
   ],
   "source": [
    "# Без списков\n",
    "max_num = None\n",
    "while True:\n",
    "    input_number = int(input())\n",
    "    if input_number == 0:\n",
    "        break\n",
    "    elif max_num is None or input_number > max_num:\n",
    "        max_num = input_number\n",
    "print(max_num)"
   ]
  },
  {
   "cell_type": "markdown",
   "id": "affef4de-70ab-4827-98fd-980f64b6cb31",
   "metadata": {},
   "source": [
    "#### Задача 4. \n",
    "\n",
    "Пользователь вводит с клавиатуры в бесконечном цикле разные вещи. Если он ввел целое число, нужно его возвести в квадрат; если он ввел слово, нужно вывести это слово в верхнем регистре; если он ввел любое количество пробельных символов, цикл завершается. "
   ]
  },
  {
   "cell_type": "code",
   "execution_count": 6,
   "id": "16aee851-baa0-4fe5-8307-a8f70185b761",
   "metadata": {},
   "outputs": [
    {
     "name": "stdout",
     "output_type": "stream",
     "text": [
      "FGSJHDSD\n",
      "16\n",
      "4\n"
     ]
    }
   ],
   "source": [
    "while True:\n",
    "    input_data = input()\n",
    "    if input_data.isspace():\n",
    "        break\n",
    "    elif input_data.isdigit():\n",
    "        print(int(input_data) ** 2)\n",
    "    else: \n",
    "        print((input_data).upper())"
   ]
  },
  {
   "cell_type": "markdown",
   "id": "1eb790b8-9c54-4be8-b747-bc03a10add17",
   "metadata": {},
   "source": [
    "#### Задача 5. \n",
    "\n",
    "Программа загадывает число от 1 до 1023. Игрок пытается угадать это число, и у него есть 10 попыток. Если игрок вводит загаданное число, программа поздравляет его и заканчивает работу. Иначе программа должна напечатать, введённое число больше или меньше загаданного. Если все 10 попыток неудачны - программа должна написать, что попытки кончились, вывести загаданное число, и предложить сыграть в игру заново (при этом число должно быть загадано другое). Если пользователь вводит число меньше, чем 1, или больше, чем 1023, программа должна об этом сообщить - но не засчитывать попытку (т.е., это не считается неудачной попыткой).\n",
    "\n",
    "**Ответьте на вопрос**: готовы ли вы ручаться, что угадаете загаданное число за эти 10 попыток?\n",
    "\n",
    "Чтобы загадать рандомное число, нужно использовать функцию randint() из внешнего модуля random. "
   ]
  },
  {
   "cell_type": "code",
   "execution_count": 35,
   "id": "e7f0c14f-d805-41bc-8ae1-ff149e1f477b",
   "metadata": {},
   "outputs": [
    {
     "name": "stdout",
     "output_type": "stream",
     "text": [
      "Введите число от 1 до 1023.\n",
      "Загаданное число меньше.\n",
      "Попыток осталось: 9\n",
      "Загаданное число меньше.\n",
      "Попыток осталось: 8\n",
      "Загаданное число больше.\n",
      "Попыток осталось: 7\n",
      "Загаданное число больше.\n",
      "Попыток осталось: 6\n",
      "Загаданное число больше.\n",
      "Попыток осталось: 5\n",
      "Загаданное число больше.\n",
      "Попыток осталось: 4\n",
      "Загаданное число меньше.\n",
      "Попыток осталось: 3\n",
      "Загаданное число меньше.\n",
      "Попыток осталось: 2\n",
      "Загаданное число больше.\n",
      "Попыток осталось: 1\n",
      "Загаданное число меньше.\n",
      "Попыток осталось: 0\n",
      "You lose\n",
      "Загаданное число: 226\n",
      "Загаданное число меньше.\n",
      "Попыток осталось: 9\n",
      "Загаданное число больше.\n",
      "Попыток осталось: 8\n",
      "Загаданное число больше.\n",
      "Попыток осталось: 7\n",
      "Загаданное число больше.\n",
      "Попыток осталось: 6\n",
      "Загаданное число больше.\n",
      "Попыток осталось: 5\n",
      "Загаданное число больше.\n",
      "Попыток осталось: 4\n",
      "Загаданное число меньше.\n",
      "Попыток осталось: 3\n",
      "Загаданное число меньше.\n",
      "Попыток осталось: 2\n",
      "Загаданное число больше.\n",
      "Попыток осталось: 1\n",
      "You win!\n"
     ]
    }
   ],
   "source": [
    "from random import randint\n",
    "\n",
    "\n",
    "while True:\n",
    "    random_number = randint(1, 1023)\n",
    "    attempts = 10\n",
    "    while attempts > 0:\n",
    "        guess = int(input())\n",
    "        if guess < 1 or guess > 1023:\n",
    "            print('Введите число от 1 до 1023.')\n",
    "            continue\n",
    "        if guess == random_number:\n",
    "            print('You win!')\n",
    "            break\n",
    "        elif guess < random_number:\n",
    "            print('Загаданное число больше.')\n",
    "        else:\n",
    "            print('Загаданное число меньше.')\n",
    "        attempts -= 1\n",
    "        print(f'Попыток осталось: {attempts}')\n",
    "        if attempts == 0:\n",
    "            print(f'You lose\\nЗагаданное число: {random_number}')\n",
    "            break\n",
    "    play_again = input('Хотите сыграть еще раз? ')\n",
    "    if play_again.lower() != 'да':\n",
    "        break"
   ]
  },
  {
   "cell_type": "markdown",
   "id": "b792d84a-e9e3-4ff2-a344-bdde490dcd7e",
   "metadata": {},
   "source": [
    "#### Задача 6. \n",
    "\n",
    "Правильные скобки. На вход подается строка, которая содержит только и исключительно скобки трех видов: круглые, квадратные и фигурные. Например, '{[([({})])]}'. Ваша задача - написать программу, которая бы проверяла правильность последовательности скобок и возвращала True или False. Примеры правильных и неправильных строк:\n",
    "\n",
    "    '[(])' = False\n",
    "    ')[](' = False\n",
    "    '{[()]}' = True"
   ]
  },
  {
   "cell_type": "code",
   "execution_count": 213,
   "id": "d54e003e",
   "metadata": {},
   "outputs": [
    {
     "name": "stdout",
     "output_type": "stream",
     "text": [
      "True\n"
     ]
    }
   ],
   "source": [
    "input_string = input()\n",
    "open_brackets = ''\n",
    "close_brackets = ''\n",
    "first_half = input_string[:int(len(input_string) / 2)]\n",
    "\n",
    "if not ')' in first_half and not ']' in first_half and not '}' in first_half:\n",
    "    for char in input_string:\n",
    "        if char in '{[(':\n",
    "            open_brackets += char\n",
    "        else:\n",
    "            close_brackets += char\n",
    "    if len(open_brackets) == len(close_brackets):\n",
    "        close_brackets = close_brackets.replace(')','(').replace('}','{').replace(']','[')\n",
    "        if open_brackets == close_brackets[::-1]:\n",
    "            print(True)\n",
    "        else:\n",
    "            print(False)\n",
    "    else:\n",
    "        print(False)\n",
    "else:\n",
    "    print(False)"
   ]
  },
  {
   "cell_type": "markdown",
   "id": "8d9c917a-1b96-43cc-9523-f12ee8bf13e2",
   "metadata": {},
   "source": [
    "#### Задача 7. \n",
    "\n",
    "Занудная: выведите с помощью цикла порядковые номера всех букв русского алфавита (ё можно отдельно), заглавных и строчных. Посмотрите, есть ли между ними что-нибудь. \n",
    "\n",
    "А для латинских?"
   ]
  },
  {
   "cell_type": "code",
   "execution_count": 101,
   "id": "f50a7c58",
   "metadata": {},
   "outputs": [
    {
     "name": "stdout",
     "output_type": "stream",
     "text": [
      "А : 1040\tБ : 1041\tВ : 1042\tГ : 1043\t\n",
      "Д : 1044\tЕ : 1045\tЖ : 1046\tЗ : 1047\t\n",
      "И : 1048\tЙ : 1049\tК : 1050\tЛ : 1051\t\n",
      "М : 1052\tН : 1053\tО : 1054\tП : 1055\t\n",
      "Р : 1056\tС : 1057\tТ : 1058\tУ : 1059\t\n",
      "Ф : 1060\tХ : 1061\tЦ : 1062\tЧ : 1063\t\n",
      "Ш : 1064\tЩ : 1065\tЪ : 1066\tЫ : 1067\t\n",
      "Ь : 1068\tЭ : 1069\tЮ : 1070\tЯ : 1071\t\n",
      "Ё : 1025\n",
      "\n",
      "а : 1072\tб : 1073\tв : 1074\tг : 1075\t\n",
      "д : 1076\tе : 1077\tж : 1078\tз : 1079\t\n",
      "и : 1080\tй : 1081\tк : 1082\tл : 1083\t\n",
      "м : 1084\tн : 1085\tо : 1086\tп : 1087\t\n",
      "р : 1088\tс : 1089\tт : 1090\tу : 1091\t\n",
      "ф : 1092\tх : 1093\tц : 1094\tч : 1095\t\n",
      "ш : 1096\tщ : 1097\tъ : 1098\tы : 1099\t\n",
      "ь : 1100\tэ : 1101\tю : 1102\tя : 1103\t\n",
      "ё : 1105\n"
     ]
    }
   ],
   "source": [
    "count = 0\n",
    "for char in range(ord('А'), ord('Я') + 1):\n",
    "    print(f'{chr(char)} : {char}', end='\\t')\n",
    "    count += 1\n",
    "    if count == 4:\n",
    "        print()\n",
    "        count = 0\n",
    "print(f'Ё : {ord(\"Ё\")}\\n')\n",
    "\n",
    "for char in range(ord('а'), ord('я') + 1):\n",
    "    print(f'{chr(char)} : {char}', end='\\t')\n",
    "    count += 1\n",
    "    if count == 4:\n",
    "        print()\n",
    "        count = 0\n",
    "print(f'ё : {ord(\"ё\")}')"
   ]
  },
  {
   "cell_type": "code",
   "execution_count": 102,
   "id": "3d639d78",
   "metadata": {},
   "outputs": [
    {
     "name": "stdout",
     "output_type": "stream",
     "text": [
      "A : 65\t\tB : 66\t\tC : 67\t\tD : 68\t\t\n",
      "E : 69\t\tF : 70\t\tG : 71\t\tH : 72\t\t\n",
      "I : 73\t\tJ : 74\t\tK : 75\t\tL : 76\t\t\n",
      "M : 77\t\tN : 78\t\tO : 79\t\tP : 80\t\t\n",
      "Q : 81\t\tR : 82\t\tS : 83\t\tT : 84\t\t\n",
      "U : 85\t\tV : 86\t\tW : 87\t\tX : 88\t\t\n",
      "Y : 89\t\tZ : 90\t\t\n",
      "\n",
      "a : 97\t\tb : 98\t\tc : 99\t\td : 100\t\t\n",
      "e : 101\t\tf : 102\t\tg : 103\t\th : 104\t\t\n",
      "i : 105\t\tj : 106\t\tk : 107\t\tl : 108\t\t\n",
      "m : 109\t\tn : 110\t\to : 111\t\tp : 112\t\t\n",
      "q : 113\t\tr : 114\t\ts : 115\t\tt : 116\t\t\n",
      "u : 117\t\tv : 118\t\tw : 119\t\tx : 120\t\t\n",
      "y : 121\t\tz : 122\t\t"
     ]
    }
   ],
   "source": [
    "count = 0\n",
    "for char in range(ord('A'), ord('Z') + 1):\n",
    "    print(f'{chr(char)} : {char}', end='\\t\\t')\n",
    "    count += 1\n",
    "    if count == 4:\n",
    "        print()\n",
    "        count = 0\n",
    "print('\\n')\n",
    "count = 0\n",
    "for char in range(ord('a'), ord('z') + 1):\n",
    "    print(f'{chr(char)} : {char}', end='\\t\\t')\n",
    "    count += 1\n",
    "    if count == 4:\n",
    "        print()\n",
    "        count = 0"
   ]
  },
  {
   "cell_type": "markdown",
   "id": "281a8b4e-9e28-4467-a52e-61ca6c73597e",
   "metadata": {},
   "source": [
    "#### Задача 8. \n",
    "\n",
    "Шифр Цезаря: самый простой способ зашифровать текст - это сопоставить буквы алфавита со сдвигом, то есть, например, со сдвигом 2 - заменить все а на в, б на г, в на е и так далее. Подробнее есть в [Википедии](https://ru.wikipedia.org/wiki/%D0%A8%D0%B8%D1%84%D1%80_%D0%A6%D0%B5%D0%B7%D0%B0%D1%80%D1%8F), конечно же, а еще можно поиграться с ним [здесь](https://planetcalc.ru/1434/). Напишите программу, которая будет принимать строчку, зашифрованную таким шифром (с неизвестным сдвигом), и пытаться расшифровать ее. "
   ]
  },
  {
   "cell_type": "code",
   "execution_count": 123,
   "id": "71ff4c19-941f-4037-9798-fdaf2feffb08",
   "metadata": {},
   "outputs": [
    {
     "name": "stdout",
     "output_type": "stream",
     "text": [
      "1:\tбвгде\n",
      "2:\tвгдеж\n",
      "3:\tгдежз\n",
      "4:\tдежзи\n",
      "5:\tежзий\n",
      "6:\tжзийк\n",
      "7:\tзийкл\n",
      "8:\tийклм\n",
      "9:\tйклмн\n",
      "10:\tклмно\n",
      "11:\tлмноп\n",
      "12:\tмнопр\n",
      "13:\tнопрс\n",
      "14:\tопрст\n",
      "15:\tпрсту\n",
      "16:\tрстуф\n",
      "17:\tстуфх\n",
      "18:\tтуфхц\n",
      "19:\tуфхцч\n",
      "20:\tфхцчш\n",
      "21:\tхцчшщ\n",
      "22:\tцчшщъ\n",
      "23:\tчшщъы\n",
      "24:\tшщъыь\n",
      "25:\tщъыьэ\n",
      "26:\tъыьэю\n",
      "27:\tыьэюя\n",
      "28:\tьэюяа\n",
      "29:\tэюяаб\n",
      "30:\tюяабв\n",
      "31:\tяабвг\n"
     ]
    }
   ],
   "source": [
    "input_string = input()\n",
    "for shift in range(1, 32):\n",
    "    decrypted_text = ''\n",
    "    for char in input_string:\n",
    "        char_code = ord(char) + shift\n",
    "        if char.isupper():\n",
    "            if char_code > ord('Я'):\n",
    "                char_code -= 32\n",
    "        else:\n",
    "            if char_code > ord('я'):\n",
    "                char_code -= 32\n",
    "        decrypted_text += chr(char_code)\n",
    "    print(f'{shift}:\\t{decrypted_text}')"
   ]
  }
 ],
 "metadata": {
  "kernelspec": {
   "display_name": "Python 3 (ipykernel)",
   "language": "python",
   "name": "python3"
  },
  "language_info": {
   "codemirror_mode": {
    "name": "ipython",
    "version": 3
   },
   "file_extension": ".py",
   "mimetype": "text/x-python",
   "name": "python",
   "nbconvert_exporter": "python",
   "pygments_lexer": "ipython3",
   "version": "3.11.5"
  }
 },
 "nbformat": 4,
 "nbformat_minor": 5
}

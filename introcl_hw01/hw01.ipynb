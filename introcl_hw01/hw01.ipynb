{
 "cells": [
  {
   "cell_type": "code",
   "execution_count": 37,
   "metadata": {},
   "outputs": [
    {
     "name": "stdout",
     "output_type": "stream",
     "text": [
      "['(', ')', ',', '-', '.', ':', 'H', 'I', 'N', 'T', 'a', 'b', 'c', 'd', 'e', 'f', 'g', 'h', 'i', 'k', 'l', 'm', 'n', 'o', 'p', 'q', 'r', 's', 't', 'u', 'v', 'w', 'x', 'y', 'z', 'th', 'nd', 'the', 'le', 'or', 'in', 'and', 'it', 'on', 'ro', 'ed', 'll', 'ho', 'lo', 'wi', 'an', 'er', 'ha', 'om', 'to', 'ing', 'as', 'de', 'do', 'for', 'he', 'of', 'und', 'with', 'ar', 'ir', 'me', 'pe', 'ts', 'room', 'round', 'hole', 'rooms', 'The', 'all', 'bb', 'be', 'el', 'li', 'st', 'tu', 'led', 'hobb', 'hobbit', '),', 'et', 'go', 'ide', 'ke', 'ly', 'nn', 'no', 'ow', 'sa', 'side', 'ted', 'ut', 'ver', 'wer', 'thes', 'ors', 'lots', 'dow', 'tunn', 'going', 'were', 'tunnel', 'No', 'at', 'air', 'ct', 'com', 'es', 'ell', 'flo', 'hi', 'id', 'lled', 'man', 'ned', 'ond', 'ope', 'out', 'pan', 're', 'ri', 'sh', 'sit', 'ty', 'was', 'ndow', 'window', 'had', 'door', 'fort', 'like', 'same', 'these', 'down', 'comfort', 'many', 'opened', 'windows', 'Hi', 'In', 'It', 'ab', 'ai', 'ath', 'ain', 'ats', 'adow', 'act', 'alled', 'br', 'bed', 'bar', 'but', 'bath', 'co', 'clo', 'cha', 'che', 'car', 'cell', 'called', 'dr', 'dle', 'din', 'dro', 'dir', 'en', 'ep', 'ex', 'end', 'eed', 'eat', 'ect', 'fi', 'fth', 'fir', 'fair', 'fond', 'fect', 'ge', 'gh', 'gs', 'gar', 'ground', 'gre', 'ind', 'ile', 'iled', 'isit', 'kit', 'king', 'kno', 'lit', 'mo', 'ms', 'mid', 'mile', 'ns', 'nor', 'nas', 'oo', 'op', 'othe', 'ole', 'ound', 'oli', 'oted', 'over', 'oking', 'por', 'pro', 'ped', 'per', 'ping', 'pas', 'pst', 'pain', 'poli', 'qu', 'rai', 'sand', 'slo', 'sha', 'sme', 'set', 'smo', 'tle', 'tri', 'tiled', 'upst', 've', 'ved', 'vid', 'visit', 'voted', 'wor', 'war', 'whole', 'wall', 'wet', 'wound', 'yet', 'yell', 'yond', 'zy', 'thing', 'that', 'thole', 'then', 'there', 'lefth', 'iny', 'into', 'ite', 'one', 'only', 'ones', 'looking', 'ans', 'anothe', 'hall', 'hats', 'have', 'ass', 'den', 'deep', 'devoted', 'doors', 'without', 'ars', 'irs', 'meadow', 'means', 'peted', 'pegs', 'peop', 'bes', 'best', 'beyond', 'elled', 'lived', 'strai', 'tube', 'not', 'nothing', 'sage', 'very', 'Not', 'airs', 'floor', 'floors', 'his', 'hill', 'pantri', 'panelled', 'river', 'shed', 'shiny', 'comfortab', 'Hill', 'brass', 'bedrooms', 'bare', 'bathrooms', 'coats', 'clothes', 'chairs', 'chens', 'carpeted', 'cellars', 'dry', 'dining', 'drobes', 'dirty', 'exact', 'ends', 'filled', 'first', 'fairly', 'fectly', 'ght', 'garden', 'green', 'indeed', 'kitchens', 'knob', 'little', 'middle', 'miles', 'nasty', 'oozy', 'porthole', 'provid', 'perfectly', 'passage', 'painted', 'polished', 'quite', 'sandy', 'sloping', 'shaped', 'smell', 'smoke', 'upstairs', 'visitors', 'worms', 'wardrobes', 'walls', 'yellow', 'lefthand', 'another', 'meadows', 'people', 'straight', 'pantries', 'comfortable', 'provided']\n"
     ]
    }
   ],
   "source": [
    "from tokenizers import Tokenizer\n",
    "from tokenizers.models import BPE\n",
    "from tokenizers.trainers import BpeTrainer\n",
    "from tokenizers.pre_tokenizers import Whitespace\n",
    "\n",
    "\n",
    "text = '''\n",
    "In a hole in the ground there lived a hobbit. Not a nasty, dirty, wet hole, filled with the ends of worms and an oozy smell, nor yet a dry, bare, sandy hole with nothing in it to sit down on or to eat: it was a hobbit-hole, and that \n",
    "means comfort. \n",
    "It had a perfectly round door like a porthole, painted green, with a shiny yellow brass knob in the exact middle. The door opened on to a tube-shaped hall like a tunnel: a very comfortable tunnel without smoke, with panelled walls, and floors tiled and carpeted, provided with polished chairs, and lots and lots of pegs for hats and coats - the hobbit was fond of visitors. The tunnel wound on and on, going fairly but not quite straight into the side of the hill - The Hill, as all the people for many miles round called it - and many little round doors opened out of it, first on one side and then on another. \n",
    "No going upstairs for the hobbit: bedrooms, bathrooms, cellars, pantries (lots of these), wardrobes (he had whole \n",
    "rooms devoted to clothes), kitchens, dining-rooms, all were on the same floor, and indeed on the same passage. \n",
    "The best rooms were all on the lefthand side (going in), for these were the only ones to have windows, deep-set round windows looking over his garden, and meadows beyond, sloping down to the river. \n",
    "'''\n",
    "# Сохраняю текст в файл, так как tokenizers требует файл для обучения\n",
    "with open('text.txt', 'w', encoding='utf-8') as f:\n",
    "    f.write(text)\n",
    "\n",
    "# Создаю объект токенизатора, использующего модель BPE\n",
    "tokenizer = Tokenizer(BPE())\n",
    "# Устанавливаю претокенизатор, который разбивает текст на слова по пробелам\n",
    "# Претокенизатор определяет верхний предел размера конечных токенов, чтобы не получались токены, объединяющие несколько часто встречающихся рядом слов\n",
    "tokenizer.pre_tokenizer = Whitespace()\n",
    "# Обучение токенизатора на подготовленном файле. Размер словаря не более 400 токенов\n",
    "trainer = BpeTrainer(vocab_size=400)\n",
    "tokenizer.train(files=['text.txt'], trainer=trainer)\n",
    "\n",
    "# Извлечение и вывод словаря из токенизатора после обучения\n",
    "vocab = tokenizer.get_vocab()\n",
    "tokens_list = list(vocab.keys())\n",
    "tokens_list.sort(key=lambda x: vocab[x])\n",
    "print(tokens_list)\n"
   ]
  },
  {
   "cell_type": "code",
   "execution_count": 29,
   "metadata": {},
   "outputs": [],
   "source": [
    "import re"
   ]
  },
  {
   "cell_type": "code",
   "execution_count": 30,
   "metadata": {},
   "outputs": [
    {
     "data": {
      "text/plain": [
       "['email@example.com', 'email@example.co.uk']"
      ]
     },
     "execution_count": 30,
     "metadata": {},
     "output_type": "execute_result"
    }
   ],
   "source": [
    "email_regex = r'[a-zA-Z0-9._-]+@[a-zA-Z0-9.]+\\.[a-zA-Z]{2,}'\n",
    "text1 = '''\n",
    "text text email@example.com text\n",
    "text text text email@example.co.uk text\n",
    "'''\n",
    "\n",
    "matches = re.findall(email_regex, text1)\n",
    "matches"
   ]
  },
  {
   "cell_type": "code",
   "execution_count": 31,
   "metadata": {},
   "outputs": [
    {
     "data": {
      "text/plain": [
       "[('Letter', 'txt'), ('Letter', 'txt')]"
      ]
     },
     "execution_count": 31,
     "metadata": {},
     "output_type": "execute_result"
    }
   ],
   "source": [
    "path_regex = r'(?:[a-zA-Z]:\\\\|\\/)?(?:[\\w\\-]+[\\\\\\/])*([\\w\\-]+)\\.(\\w+)'\n",
    "text2 = '''\n",
    "text text /home/user/docs/Letter.txt text\n",
    "text text text C:\\\\user\\\\docs\\\\Letter.txt text\n",
    "'''\n",
    "\n",
    "matches = re.findall(path_regex, text2)\n",
    "matches"
   ]
  },
  {
   "cell_type": "code",
   "execution_count": 35,
   "metadata": {},
   "outputs": [
    {
     "data": {
      "text/plain": [
       "[('Time', 'Обычно', 'обычно', '#frequentative_adverbs_adj', 'FREQUENTATIVE'),\n",
       " ('Experiencer_Metaphoric', 'бюджет', 'бюджет', 'бюджет', 'BUDGET'),\n",
       " ('', 'ко', 'к', '#preposition', 'PREPOSITION'),\n",
       " ('OrderInTimeAndSpace', 'второму', 'второй', '', 'TWO_ORDINAL'),\n",
       " ('Object_Situation', 'чтению ', 'чтение', '', 'READING_OF_THE_DRAFT_LAW'),\n",
       " ('Predicate', 'готовится', 'готовить', 'готовить', 'PREPAREDNESS'),\n",
       " ('DegreeApproximative',\n",
       "  'непосредственно',\n",
       "  'непосредственный',\n",
       "  '',\n",
       "  'DIRECT_OBLIQUE'),\n",
       " ('', 'в', 'в_Prepositional', '#preposition', 'PREPOSITION'),\n",
       " ('Locative', 'Думе', 'дума', 'дума', 'DUMA'),\n",
       " ('Agent', 'депутаты', 'депутат', 'депутат', 'DEPUTY'),\n",
       " ('Specification_Clause',\n",
       "  'корректируют',\n",
       "  'корректировать',\n",
       "  'корректировать',\n",
       "  'TO_CORRECT'),\n",
       " ('Agent',\n",
       "  'правительственные',\n",
       "  'правительство',\n",
       "  'правительство',\n",
       "  'GOVERNMENT'),\n",
       " ('Object_Situation', 'планы', 'план', 'план', 'SCHEDULE_FOR_ACTIVITY')]"
      ]
     },
     "execution_count": 35,
     "metadata": {},
     "output_type": "execute_result"
    }
   ],
   "source": [
    "regex = r'([a-zA-Z_]+)?:? ?([^[:]+)\\\"([^:]+):([^:A-Z]+)?:?([^\\\"\\]]+)'\n",
    "text3 = '''\n",
    "#[[Time: Обычно\"обычно:#frequentative_adverbs_adj:FREQUENTATIVE\"] [Experiencer_Metaphoric: бюджет\"бюджет:бюджет:BUDGET\"] [[ко\"к:#preposition:PREPOSITION\"] [OrderInTimeAndSpace: второму\"второй:TWO_ORDINAL\"] Object_Situation: чтению \"чтение:READING_OF_THE_DRAFT_LAW\"] Predicate: готовится\"готовить:готовить:PREPAREDNESS\" [[DegreeApproximative: непосредственно\"непосредственный:DIRECT_OBLIQUE\"] [в\"в_Prepositional:#preposition:PREPOSITION\"] Locative: Думе\"дума:дума:DUMA\"]#: [[Agent: депутаты\"депутат:депутат:DEPUTY\"] Specification_Clause: корректируют\"корректировать:корректировать:TO_CORRECT\" [[Agent: правительственные\"правительство:правительство:GOVERNMENT\"] Object_Situation: планы\"план:план:SCHEDULE_FOR_ACTIVITY\"]]].\n",
    "'''\n",
    "\n",
    "matches = re.findall(regex, text3)\n",
    "matches"
   ]
  },
  {
   "cell_type": "code",
   "execution_count": 36,
   "metadata": {},
   "outputs": [
    {
     "data": {
      "text/html": [
       "<div>\n",
       "<style scoped>\n",
       "    .dataframe tbody tr th:only-of-type {\n",
       "        vertical-align: middle;\n",
       "    }\n",
       "\n",
       "    .dataframe tbody tr th {\n",
       "        vertical-align: top;\n",
       "    }\n",
       "\n",
       "    .dataframe thead th {\n",
       "        text-align: right;\n",
       "    }\n",
       "</style>\n",
       "<table border=\"1\" class=\"dataframe\">\n",
       "  <thead>\n",
       "    <tr style=\"text-align: right;\">\n",
       "      <th></th>\n",
       "      <th>Семантическая роль</th>\n",
       "      <th>Словоформа</th>\n",
       "      <th>Лемма</th>\n",
       "      <th>Лексический класс</th>\n",
       "      <th>Семантический класс</th>\n",
       "    </tr>\n",
       "  </thead>\n",
       "  <tbody>\n",
       "    <tr>\n",
       "      <th>0</th>\n",
       "      <td>Time</td>\n",
       "      <td>Обычно</td>\n",
       "      <td>обычно</td>\n",
       "      <td>#frequentative_adverbs_adj</td>\n",
       "      <td>FREQUENTATIVE</td>\n",
       "    </tr>\n",
       "    <tr>\n",
       "      <th>1</th>\n",
       "      <td>Experiencer_Metaphoric</td>\n",
       "      <td>бюджет</td>\n",
       "      <td>бюджет</td>\n",
       "      <td>бюджет</td>\n",
       "      <td>BUDGET</td>\n",
       "    </tr>\n",
       "    <tr>\n",
       "      <th>2</th>\n",
       "      <td></td>\n",
       "      <td>ко</td>\n",
       "      <td>к</td>\n",
       "      <td>#preposition</td>\n",
       "      <td>PREPOSITION</td>\n",
       "    </tr>\n",
       "    <tr>\n",
       "      <th>3</th>\n",
       "      <td>OrderInTimeAndSpace</td>\n",
       "      <td>второму</td>\n",
       "      <td>второй</td>\n",
       "      <td></td>\n",
       "      <td>TWO_ORDINAL</td>\n",
       "    </tr>\n",
       "    <tr>\n",
       "      <th>4</th>\n",
       "      <td>Object_Situation</td>\n",
       "      <td>чтению</td>\n",
       "      <td>чтение</td>\n",
       "      <td></td>\n",
       "      <td>READING_OF_THE_DRAFT_LAW</td>\n",
       "    </tr>\n",
       "    <tr>\n",
       "      <th>5</th>\n",
       "      <td>Predicate</td>\n",
       "      <td>готовится</td>\n",
       "      <td>готовить</td>\n",
       "      <td>готовить</td>\n",
       "      <td>PREPAREDNESS</td>\n",
       "    </tr>\n",
       "    <tr>\n",
       "      <th>6</th>\n",
       "      <td>DegreeApproximative</td>\n",
       "      <td>непосредственно</td>\n",
       "      <td>непосредственный</td>\n",
       "      <td></td>\n",
       "      <td>DIRECT_OBLIQUE</td>\n",
       "    </tr>\n",
       "    <tr>\n",
       "      <th>7</th>\n",
       "      <td></td>\n",
       "      <td>в</td>\n",
       "      <td>в_Prepositional</td>\n",
       "      <td>#preposition</td>\n",
       "      <td>PREPOSITION</td>\n",
       "    </tr>\n",
       "    <tr>\n",
       "      <th>8</th>\n",
       "      <td>Locative</td>\n",
       "      <td>Думе</td>\n",
       "      <td>дума</td>\n",
       "      <td>дума</td>\n",
       "      <td>DUMA</td>\n",
       "    </tr>\n",
       "    <tr>\n",
       "      <th>9</th>\n",
       "      <td>Agent</td>\n",
       "      <td>депутаты</td>\n",
       "      <td>депутат</td>\n",
       "      <td>депутат</td>\n",
       "      <td>DEPUTY</td>\n",
       "    </tr>\n",
       "    <tr>\n",
       "      <th>10</th>\n",
       "      <td>Specification_Clause</td>\n",
       "      <td>корректируют</td>\n",
       "      <td>корректировать</td>\n",
       "      <td>корректировать</td>\n",
       "      <td>TO_CORRECT</td>\n",
       "    </tr>\n",
       "    <tr>\n",
       "      <th>11</th>\n",
       "      <td>Agent</td>\n",
       "      <td>правительственные</td>\n",
       "      <td>правительство</td>\n",
       "      <td>правительство</td>\n",
       "      <td>GOVERNMENT</td>\n",
       "    </tr>\n",
       "    <tr>\n",
       "      <th>12</th>\n",
       "      <td>Object_Situation</td>\n",
       "      <td>планы</td>\n",
       "      <td>план</td>\n",
       "      <td>план</td>\n",
       "      <td>SCHEDULE_FOR_ACTIVITY</td>\n",
       "    </tr>\n",
       "  </tbody>\n",
       "</table>\n",
       "</div>"
      ],
      "text/plain": [
       "        Семантическая роль         Словоформа             Лемма  \\\n",
       "0                     Time             Обычно            обычно   \n",
       "1   Experiencer_Metaphoric             бюджет            бюджет   \n",
       "2                                          ко                 к   \n",
       "3      OrderInTimeAndSpace            второму            второй   \n",
       "4         Object_Situation            чтению             чтение   \n",
       "5                Predicate          готовится          готовить   \n",
       "6      DegreeApproximative    непосредственно  непосредственный   \n",
       "7                                           в   в_Prepositional   \n",
       "8                 Locative               Думе              дума   \n",
       "9                    Agent           депутаты           депутат   \n",
       "10    Specification_Clause       корректируют    корректировать   \n",
       "11                   Agent  правительственные     правительство   \n",
       "12        Object_Situation              планы              план   \n",
       "\n",
       "             Лексический класс       Семантический класс  \n",
       "0   #frequentative_adverbs_adj             FREQUENTATIVE  \n",
       "1                       бюджет                    BUDGET  \n",
       "2                 #preposition               PREPOSITION  \n",
       "3                                            TWO_ORDINAL  \n",
       "4                               READING_OF_THE_DRAFT_LAW  \n",
       "5                     готовить              PREPAREDNESS  \n",
       "6                                         DIRECT_OBLIQUE  \n",
       "7                 #preposition               PREPOSITION  \n",
       "8                         дума                      DUMA  \n",
       "9                      депутат                    DEPUTY  \n",
       "10              корректировать                TO_CORRECT  \n",
       "11               правительство                GOVERNMENT  \n",
       "12                        план     SCHEDULE_FOR_ACTIVITY  "
      ]
     },
     "execution_count": 36,
     "metadata": {},
     "output_type": "execute_result"
    }
   ],
   "source": [
    "import pandas as pd\n",
    "\n",
    "df = pd.DataFrame(matches, columns=['Семантическая роль', 'Словоформа', 'Лемма', 'Лексический класс', 'Семантический класс'])\n",
    "df"
   ]
  }
 ],
 "metadata": {
  "kernelspec": {
   "display_name": "Python 3",
   "language": "python",
   "name": "python3"
  },
  "language_info": {
   "codemirror_mode": {
    "name": "ipython",
    "version": 3
   },
   "file_extension": ".py",
   "mimetype": "text/x-python",
   "name": "python",
   "nbconvert_exporter": "python",
   "pygments_lexer": "ipython3",
   "version": "3.11.5"
  }
 },
 "nbformat": 4,
 "nbformat_minor": 2
}

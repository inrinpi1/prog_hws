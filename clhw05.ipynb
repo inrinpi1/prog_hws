{
 "cells": [
  {
   "cell_type": "markdown",
   "id": "e7fd4f2d-fa5c-4975-aee1-dbd36df06161",
   "metadata": {
    "tags": []
   },
   "source": [
    "#### Задача 1. \n",
    "\n",
    "Соберем свой математический модуль: \n",
    "\n",
    "- напишите функции для вычисления формул, собранных [здесь](http://mathprofi.ru/formuly_kombinatoriki.pdf): нас интересуют сам факториал и формулы количества. Сохраните это все в модуле combinatorics.py.\n",
    "- напишите функции для вычисления площадей геометрических фигур: прямоугольника, квадрата, треугольника и шара. Сохраните их в файл areas.py.\n",
    "- положите оба файла в папку с именем вашего модуля. Создайте файл \\_\\_init\\_\\_.py.\n",
    "- импортируйте все написанные модули в новый файл py, в котором пользователю будет предлагаться выбрать, нужна ли ему комбинаторика или геометрия, и потом какая функция ему нужна. \n",
    "- при запуске одного из подмодулей combinatorics & areas самих по себе должно вылезать предупреждение о том, что нужно запустить головной файл (с выбором). \n",
    "- при импортировании \n",
    "\n",
    "        from <my math> import * \n",
    "        \n",
    "    должны импортироваться оба подмодуля. "
   ]
  },
  {
   "cell_type": "markdown",
   "id": "ff5eb064-44a2-45c2-9647-97adae92346a",
   "metadata": {},
   "source": [
    "#### Задача 2. \n",
    "\n",
    "Изучите содержимое файла Maths.csv: выведите первые пять его строк с помощью модуля csv, напечатайте отдельно в столбик названия колонок. "
   ]
  },
  {
   "cell_type": "code",
   "execution_count": 7,
   "id": "4251bc1d",
   "metadata": {},
   "outputs": [
    {
     "name": "stdout",
     "output_type": "stream",
     "text": [
      "school\n",
      "sex\n",
      "age\n",
      "address\n",
      "famsize\n",
      "Pstatus\n",
      "Medu\n",
      "Fedu\n",
      "Mjob\n",
      "Fjob\n",
      "reason\n",
      "guardian\n",
      "traveltime\n",
      "studytime\n",
      "failures\n",
      "schoolsup\n",
      "famsup\n",
      "paid\n",
      "activities\n",
      "nursery\n",
      "higher\n",
      "internet\n",
      "romantic\n",
      "famrel\n",
      "freetime\n",
      "goout\n",
      "Dalc\n",
      "Walc\n",
      "health\n",
      "absences\n",
      "G1\n",
      "G2\n",
      "G3\n",
      "['GP', 'F', '18', 'U', 'GT3', 'A', '4', '4', 'at_home', 'teacher', 'course', 'mother', '2', '2', '0', 'yes', 'no', 'no', 'no', 'yes', 'yes', 'no', 'no', '4', '3', '4', '1', '1', '3', '6', '5', '6', '6']\n",
      "['GP', 'F', '17', 'U', 'GT3', 'T', '1', '1', 'at_home', 'other', 'course', 'father', '1', '2', '0', 'no', 'yes', 'no', 'no', 'no', 'yes', 'yes', 'no', '5', '3', '3', '1', '1', '3', '4', '5', '5', '6']\n",
      "['GP', 'F', '15', 'U', 'LE3', 'T', '1', '1', 'at_home', 'other', 'other', 'mother', '1', '2', '3', 'yes', 'no', 'yes', 'no', 'yes', 'yes', 'yes', 'no', '4', '3', '2', '2', '3', '3', '10', '7', '8', '10']\n",
      "['GP', 'F', '15', 'U', 'GT3', 'T', '4', '2', 'health', 'services', 'home', 'mother', '1', '3', '0', 'no', 'yes', 'yes', 'yes', 'yes', 'yes', 'yes', 'yes', '3', '2', '2', '1', '1', '5', '2', '15', '14', '15']\n",
      "['GP', 'F', '16', 'U', 'GT3', 'T', '3', '3', 'other', 'other', 'home', 'father', '1', '2', '0', 'no', 'yes', 'yes', 'no', 'yes', 'yes', 'no', 'no', '4', '3', '2', '1', '2', '5', '4', '6', '10', '10']\n"
     ]
    }
   ],
   "source": [
    "import csv\n",
    "\n",
    "with open('Maths.csv', 'r') as file:\n",
    "    reader = csv.reader(file)\n",
    "    headers = next(reader)\n",
    "    \n",
    "    for header in headers:\n",
    "        print(header)\n",
    "\n",
    "    for i in range(5):\n",
    "        print(next(reader))"
   ]
  }
 ],
 "metadata": {
  "kernelspec": {
   "display_name": "Python 3 (ipykernel)",
   "language": "python",
   "name": "python3"
  },
  "language_info": {
   "codemirror_mode": {
    "name": "ipython",
    "version": 3
   },
   "file_extension": ".py",
   "mimetype": "text/x-python",
   "name": "python",
   "nbconvert_exporter": "python",
   "pygments_lexer": "ipython3",
   "version": "3.11.5"
  }
 },
 "nbformat": 4,
 "nbformat_minor": 5
}

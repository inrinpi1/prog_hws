{
 "cells": [
  {
   "cell_type": "markdown",
   "id": "012b6176-02b0-4183-8d8c-92adc4be4c5a",
   "metadata": {},
   "source": [
    "#### Задача 1. \n",
    "\n",
    "Даны четыре действительных числа: x1, y1, x2, y2. Напишите функцию distance(x1, y1, x2, y2), вычисляющая расстояние между точкой (x1, y1) и (x2, y2). Считайте четыре действительных числа и выведите результат работы этой функции."
   ]
  },
  {
   "cell_type": "code",
   "execution_count": 101,
   "id": "7f2ff57d-516a-409c-aee8-4dd64aeb5937",
   "metadata": {},
   "outputs": [
    {
     "name": "stdout",
     "output_type": "stream",
     "text": [
      "4.0\n"
     ]
    }
   ],
   "source": [
    "def distance(x1, y1, x2, y2):\n",
    "    return ((x2 - x1) ** 2 + (y2 - y1) ** 2) ** 0.5\n",
    "\n",
    "\n",
    "x1, y1, x2, y2 = map(float, input('Введите четыре числа через пробел: ').split())\n",
    "print(distance(x1, y1, x2, y2))"
   ]
  },
  {
   "cell_type": "markdown",
   "id": "870aa7b6-0198-44f8-8d29-6a6b5690288c",
   "metadata": {},
   "source": [
    "#### Задача 2. \n",
    "\n",
    "Дана последовательность целых чисел, заканчивающаяся числом 0. Выведите эту последовательность в обратном порядке.\n",
    "При решении этой задачи нельзя пользоваться массивами и прочими динамическими структурами данных. Рекурсия вам поможет."
   ]
  },
  {
   "cell_type": "code",
   "execution_count": 3,
   "id": "b8fbf8ed-5d1d-4c7d-914c-25194e142c45",
   "metadata": {},
   "outputs": [
    {
     "name": "stdout",
     "output_type": "stream",
     "text": [
      "0\n",
      "4\n",
      "3\n",
      "2\n"
     ]
    }
   ],
   "source": [
    "def reverse_order():\n",
    "    number = int(input())\n",
    "    if number != 0:\n",
    "        reverse_order()\n",
    "    print(number)\n",
    "\n",
    "\n",
    "reverse_order()"
   ]
  },
  {
   "cell_type": "markdown",
   "id": "a2bdf0da-7671-4835-b037-aa3db0c86e1b",
   "metadata": {},
   "source": [
    "#### Задача 3. \n",
    "\n",
    "Напишите генераторную функцию, которая будет принимать строку с каким-нибудь длинным предложением и возвращать по одному слову из этого предложения в верхнем регистре. "
   ]
  },
  {
   "cell_type": "code",
   "execution_count": 12,
   "id": "47980b5b-6c31-4dfa-96b1-57d230bb42e3",
   "metadata": {},
   "outputs": [
    {
     "name": "stdout",
     "output_type": "stream",
     "text": [
      "QWE RTY UIO "
     ]
    }
   ],
   "source": [
    "def upper_case(string):\n",
    "    for word in string.split():\n",
    "        yield word.upper()\n",
    "\n",
    "\n",
    "for word in upper_case(input()):\n",
    "    print(word, end=' ')"
   ]
  },
  {
   "cell_type": "markdown",
   "id": "a51551eb-1d88-4d2a-a7a1-1e14dc713882",
   "metadata": {},
   "source": [
    "#### Задача 4 (\\*). \n",
    "\n",
    "Дан список кортежей, в каждом из которых по два элемента (можно считать его с клавиатуры в цикле while, вводя кортежи парами через пробел). Превратите его в два кортежа, чтобы в первом были только элементы с нулевым индексом, а во втором - с первым. То есть:\n",
    "\n",
    "    [(1, 'a'), (2, 'b')] \n",
    "    должно превратиться в \n",
    "    (1, 2), ('a', 'b')\n",
    "\n",
    "Цикл можно использовать только для считывания с клавиатуры исходного списка. "
   ]
  },
  {
   "cell_type": "code",
   "execution_count": 35,
   "id": "9740163a",
   "metadata": {},
   "outputs": [
    {
     "name": "stdout",
     "output_type": "stream",
     "text": [
      "('1', '2') ('a', 'b')\n"
     ]
    }
   ],
   "source": [
    "tuple_list = []\n",
    "while True:\n",
    "    input_tuple = input()\n",
    "    if input_tuple == '0':\n",
    "        break\n",
    "    tuple_list.append(tuple(input_tuple.split()))\n",
    "\n",
    "result_tuple = tuple(zip(*tuple_list))\n",
    "print(*result_tuple)"
   ]
  },
  {
   "cell_type": "markdown",
   "id": "57542689-78e6-4282-b831-722e81a53b8b",
   "metadata": {},
   "source": [
    "#### Задача 5. \n",
    "\n",
    "Дан список слов (можно считать его через одну строку с помощью split()). Без циклов верните список, состоящий из длин этих слов. "
   ]
  },
  {
   "cell_type": "code",
   "execution_count": 41,
   "id": "bca626a6-7644-49f5-83e6-cdbb882aeffa",
   "metadata": {},
   "outputs": [
    {
     "name": "stdout",
     "output_type": "stream",
     "text": [
      "[3, 6, 9]\n"
     ]
    }
   ],
   "source": [
    "input_string = input().split()\n",
    "print(list(map(len, input_string)))"
   ]
  },
  {
   "cell_type": "markdown",
   "id": "7dbaf89c-2f9c-49b2-ab54-9149c5452565",
   "metadata": {},
   "source": [
    "#### Задача 6. \n",
    "\n",
    "Соберите множество всех кириллических букв любым способом (либо с использованием функций ord() и char(), либо с использованием строк). "
   ]
  },
  {
   "cell_type": "code",
   "execution_count": 53,
   "id": "bb4a40ea-e105-4d0c-b28a-cb0ad1434dca",
   "metadata": {},
   "outputs": [
    {
     "name": "stdout",
     "output_type": "stream",
     "text": [
      "{'О', 'Т', 'Ь', 'у', 'Ы', 'М', 'п', 'л', 'э', 'ж', 'ю', 'к', 'ф', 'Ф', 'А', 'т', 'д', 'Ч', 'Г', 'м', 'Н', 'П', 'Щ', 'в', 'ш', 'У', 'ы', 'ц', 'Й', 'с', 'В', 'Ш', 'З', 'я', 'ё', 'Е', 'н', 'и', 'Л', 'Д', 'Р', 'Ю', 'ъ', 'з', 'г', 'б', 'х', 'С', 'К', 'Ц', 'р', 'е', 'ч', 'щ', 'Б', 'Ж', 'Ъ', 'И', 'Я', 'а', 'ь', 'й', 'Э', 'о', 'Х', 'Ё'}\n"
     ]
    }
   ],
   "source": [
    "cyrillic_letters = {chr(i) for i in range(ord('А'), ord('я') + 1)}\n",
    "cyrillic_letters.add('ё')\n",
    "cyrillic_letters.add('Ё')\n",
    "print(cyrillic_letters)"
   ]
  },
  {
   "cell_type": "markdown",
   "id": "f58c1d07-8c62-49ac-ae2b-bc3ba1fd70bf",
   "metadata": {},
   "source": [
    "#### Задача 7. \n",
    "\n",
    "Воспользуйтесь собранным множеством букв из задачи 2 и напишите функцию, которая будет проверять строку на то, является ли она кириллическим словом. Отфильтруйте список, состоящий из слов, с помощью этой функции таким образом, чтобы остались только кириллические слова. "
   ]
  },
  {
   "cell_type": "code",
   "execution_count": 69,
   "id": "aa727129-530d-4ef6-b3c2-eb81298c928d",
   "metadata": {},
   "outputs": [
    {
     "name": "stdout",
     "output_type": "stream",
     "text": [
      "['Привет']\n"
     ]
    }
   ],
   "source": [
    "cyrillic_letters = {chr(i) for i in range(ord('А'), ord('я') + 1)}\n",
    "cyrillic_letters.add('ё')\n",
    "cyrillic_letters.add('Ё')\n",
    "\n",
    "words = ['Привет', 'Hello']\n",
    "\n",
    "cyrillic_words = list(filter(lambda word: all(char in cyrillic_letters for char in word), words))\n",
    "print(cyrillic_words)\n"
   ]
  },
  {
   "cell_type": "markdown",
   "id": "1ba73d33-e4bd-498f-9866-66bbb068d324",
   "metadata": {},
   "source": [
    "#### Задача 8. \n",
    "\n",
    "Даны два списка чисел. Найдите все числа, которые входят как в первый, так и во второй список, и выведите их в порядке возрастания."
   ]
  },
  {
   "cell_type": "code",
   "execution_count": 77,
   "id": "3a299176",
   "metadata": {},
   "outputs": [
    {
     "name": "stdout",
     "output_type": "stream",
     "text": [
      "[4, 5]\n"
     ]
    }
   ],
   "source": [
    "list1 = list(map(int, input().split()))\n",
    "list2 = list(map(int, input().split()))\n",
    "\n",
    "print(sorted(set(list1) & set(list2)))"
   ]
  },
  {
   "cell_type": "markdown",
   "id": "f60e2401-7d51-49fb-bb28-8a231f5c6987",
   "metadata": {},
   "source": [
    "#### Задача 9. \n",
    "\n",
    "Напишите функцию lexdiv(), которая считает лексическое разнообразие в тексте. Лексическое разноообразие - это количество уникальных слов, поделенное на количество всех слов в тексте. Посчитайте лексическое разнообразие для любого англоязычного и русскоязычного текста примерно одинаковой длины.\n",
    "\n",
    "Текст можно задать прямо в коде с помощью тройных кавычек. "
   ]
  },
  {
   "cell_type": "code",
   "execution_count": 111,
   "id": "f5b7a998-d3fd-4f2d-910e-9d4165d01f98",
   "metadata": {},
   "outputs": [
    {
     "name": "stdout",
     "output_type": "stream",
     "text": [
      "0.821917808219178\n",
      "0.580952380952381\n"
     ]
    }
   ],
   "source": [
    "def lexdiv(text):\n",
    "    words = text.split()\n",
    "    unique_words = set(words)\n",
    "    return len(unique_words) / len(words)\n",
    "\n",
    "\n",
    "russian_text = \"\"\"\n",
    "Алгоритмы вычисления контрольных сумм — несложные, быстрые и легко реализуемые аппаратно алгоритмы, используемые для защиты данных от непреднамеренных искажений, в том числе — от ошибок аппаратуры. С точки зрения математики такие алгоритмы являются хеш-функциями, вычисляющими контрольный код. Контрольный код применяется для обнаружения ошибок, которые могут возникнуть при передаче и хранении информации.\n",
    "Алгоритмы вычисления контрольных сумм по скорости вычисления в десятки и сотни раз быстрее, чем криптографические хеш-функции, и значительно проще в аппаратном исполнении.\n",
    "\"\"\"\n",
    "english_text = \"\"\"\n",
    "A hash function is any function that can be used to map data of arbitrary size to fixed-size values, though there are some hash functions that support variable length output. The values returned by a hash function are called hash values, hash codes, digests, or simply hashes. The values are usually used to index a fixed-size table called a hash table. Use of a hash function to index a hash table is called hashing or scatter storage addressing.\n",
    "Hash functions and their associated hash tables are used in data storage and retrieval applications to access data in a small and nearly constant time per retrieval.\n",
    "\"\"\"\n",
    "\n",
    "print(lexdiv(russian_text))\n",
    "print(lexdiv(english_text))"
   ]
  },
  {
   "cell_type": "markdown",
   "id": "778ba4ca-34cc-40bb-98a4-8c4168b0d02e",
   "metadata": {},
   "source": [
    "#### Задача 10. \n",
    "\n",
    "Напишите функцию printmatrix(), которая будет красиво выводить матрицу в печать. "
   ]
  },
  {
   "cell_type": "code",
   "execution_count": 113,
   "id": "9287bd95-72b6-4b39-9dd7-d21179d8fd87",
   "metadata": {},
   "outputs": [
    {
     "name": "stdout",
     "output_type": "stream",
     "text": [
      "1\t2\t3\t\n",
      "4\t5\t6\t\n",
      "7\t8\t9\t\n"
     ]
    }
   ],
   "source": [
    "def printmatrix(matrix):\n",
    "    for row in matrix:\n",
    "        for elem in row:\n",
    "            print(elem, end='\\t')\n",
    "        print()\n",
    "\n",
    "\n",
    "matrix = [[1, 2, 3], [4, 5, 6], [7, 8, 9]]\n",
    "printmatrix(matrix)"
   ]
  },
  {
   "cell_type": "markdown",
   "id": "920168d6-c19e-4f57-b15e-399d8644ca7d",
   "metadata": {},
   "source": [
    "#### Задача 11. \n",
    "\n",
    "Напишите функцию generate_unitary(), которая будет генерировать единичную матрицу размера n. Единичная матрица - такая, у которой по диагонали стоят единички, а все остальные числа - нолики, например:\n",
    "\n",
    "    1 0 0 0\n",
    "    0 1 0 0\n",
    "    0 0 1 0\n",
    "    0 0 0 1"
   ]
  },
  {
   "cell_type": "code",
   "execution_count": 112,
   "id": "f44be14c-b60a-4f10-a902-069effa4cef6",
   "metadata": {},
   "outputs": [
    {
     "name": "stdout",
     "output_type": "stream",
     "text": [
      "1\t0\t0\t0\t0\t\n",
      "0\t1\t0\t0\t0\t\n",
      "0\t0\t1\t0\t0\t\n",
      "0\t0\t0\t1\t0\t\n",
      "0\t0\t0\t0\t1\t\n"
     ]
    }
   ],
   "source": [
    "def generate_unitary(n):\n",
    "    matrix = [[0] * n for i in range(n)] \n",
    "    for i in range(n):\n",
    "        matrix[i][i] = 1  \n",
    "    return matrix\n",
    "\n",
    "def printmatrix(matrix):\n",
    "    for row in matrix:\n",
    "        for elem in row:\n",
    "            print(elem, end='\\t')\n",
    "        print()\n",
    "\n",
    "\n",
    "matrix5 = generate_unitary(5)\n",
    "printmatrix(matrix5)\n"
   ]
  }
 ],
 "metadata": {
  "kernelspec": {
   "display_name": "Python 3 (ipykernel)",
   "language": "python",
   "name": "python3"
  },
  "language_info": {
   "codemirror_mode": {
    "name": "ipython",
    "version": 3
   },
   "file_extension": ".py",
   "mimetype": "text/x-python",
   "name": "python",
   "nbconvert_exporter": "python",
   "pygments_lexer": "ipython3",
   "version": "3.11.5"
  }
 },
 "nbformat": 4,
 "nbformat_minor": 5
}
